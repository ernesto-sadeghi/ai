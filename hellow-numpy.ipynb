{
  "nbformat": 4,
  "nbformat_minor": 0,
  "metadata": {
    "colab": {
      "provenance": [],
      "authorship_tag": "ABX9TyMJ5Cj8Df9vCYK2KQ9ZTG7P",
      "include_colab_link": true
    },
    "kernelspec": {
      "name": "python3",
      "display_name": "Python 3"
    },
    "language_info": {
      "name": "python"
    }
  },
  "cells": [
    {
      "cell_type": "markdown",
      "metadata": {
        "id": "view-in-github",
        "colab_type": "text"
      },
      "source": [
        "<a href=\"https://colab.research.google.com/github/ernesto-sadeghi/ai/blob/main/hellow-numpy.ipynb\" target=\"_parent\"><img src=\"https://colab.research.google.com/assets/colab-badge.svg\" alt=\"Open In Colab\"/></a>"
      ]
    },
    {
      "cell_type": "markdown",
      "source": [
        "importing numpy"
      ],
      "metadata": {
        "id": "lEyRfk--bH9S"
      }
    },
    {
      "cell_type": "code",
      "execution_count": null,
      "metadata": {
        "id": "EtPAuRHQWq9n"
      },
      "outputs": [],
      "source": [
        "import numpy as np\n"
      ]
    },
    {
      "cell_type": "markdown",
      "source": [
        "creating random 3x3 array"
      ],
      "metadata": {
        "id": "T1MrQgdCbvtV"
      }
    },
    {
      "cell_type": "code",
      "source": [
        "random_array = np.random.randint(1,101,size=(3,3))\n",
        "print(random_array)"
      ],
      "metadata": {
        "colab": {
          "base_uri": "https://localhost:8080/"
        },
        "id": "iJS2GPWPZwhE",
        "outputId": "f03fedf4-75ad-4de1-cf53-decfb2da6d0e"
      },
      "execution_count": null,
      "outputs": [
        {
          "output_type": "stream",
          "name": "stdout",
          "text": [
            "[[86  5 56]\n",
            " [95 97  4]\n",
            " [96 43 46]]\n"
          ]
        }
      ]
    },
    {
      "cell_type": "markdown",
      "source": [
        "finding max and min"
      ],
      "metadata": {
        "id": "VFKDmkWrdWLN"
      }
    },
    {
      "cell_type": "code",
      "source": [
        "print(\"max:\",np.max(random_array))\n",
        "print(\"min:\",np.min(random_array))\n",
        "#print(np.min(random_array,axis=0)) # min along each column\n",
        "#print(np.min(random_array,axis=1)) # min along each row"
      ],
      "metadata": {
        "colab": {
          "base_uri": "https://localhost:8080/"
        },
        "id": "RzTf6ADEb0mN",
        "outputId": "a3cd587e-5453-434b-89c2-b0e6c15e5d5e"
      },
      "execution_count": null,
      "outputs": [
        {
          "output_type": "stream",
          "name": "stdout",
          "text": [
            "max: 97\n",
            "min: 4\n"
          ]
        }
      ]
    },
    {
      "cell_type": "markdown",
      "source": [
        "product of each column"
      ],
      "metadata": {
        "id": "3l6r_dfZlGdH"
      }
    },
    {
      "cell_type": "code",
      "source": [
        "column_product= np.prod(random_array,axis=0)\n",
        "print(column_product)"
      ],
      "metadata": {
        "colab": {
          "base_uri": "https://localhost:8080/"
        },
        "id": "G-XNG-kXfYGZ",
        "outputId": "4cf90b0b-b1f7-4dec-b6db-40a7cd1b02ea"
      },
      "execution_count": null,
      "outputs": [
        {
          "output_type": "stream",
          "name": "stdout",
          "text": [
            "[784320  20855  10304]\n"
          ]
        }
      ]
    },
    {
      "cell_type": "code",
      "source": [
        "mean = np.mean(random_array)\n",
        "deviation = np.std(random_array)\n",
        "print(mean)\n",
        "print(deviation)\n",
        "\n",
        "normalized_array = (random_array-mean)/deviation\n",
        "print(normalized_array)"
      ],
      "metadata": {
        "colab": {
          "base_uri": "https://localhost:8080/"
        },
        "id": "4hhfURVVlKPG",
        "outputId": "52914392-813e-4b39-c242-ffc5657e4e75"
      },
      "execution_count": null,
      "outputs": [
        {
          "output_type": "stream",
          "name": "stdout",
          "text": [
            "58.666666666666664\n",
            "35.29557731186413\n",
            "[[ 0.77441242 -1.52049267 -0.07555243]\n",
            " [ 1.02940187  1.08606619 -1.54882483]\n",
            " [ 1.05773403 -0.44387053 -0.35887405]]\n"
          ]
        }
      ]
    },
    {
      "cell_type": "markdown",
      "source": [
        "**2. reshaping an array**"
      ],
      "metadata": {
        "id": "55NDKNe7nAM9"
      }
    },
    {
      "cell_type": "code",
      "source": [
        "javad= np.array([1,2,3,4,5,6,7,8,9,10,11,12])\n",
        "print(javad)\n",
        "\n",
        "threeXfour = javad.reshape(3,4)\n",
        "print(\"\\n\",threeXfour,\"\\n\") #3row 4columns\n",
        "\n",
        "fourXthree = javad.reshape(4,3)\n",
        "print(fourXthree) #3row 4columns"
      ],
      "metadata": {
        "colab": {
          "base_uri": "https://localhost:8080/"
        },
        "id": "-Jy5W0i7nJIN",
        "outputId": "ed539e5e-c9ad-4cd2-c4b4-6ee1d7f492c7"
      },
      "execution_count": null,
      "outputs": [
        {
          "output_type": "stream",
          "name": "stdout",
          "text": [
            "[ 1  2  3  4  5  6  7  8  9 10 11 12]\n",
            "\n",
            " [[ 1  2  3  4]\n",
            " [ 5  6  7  8]\n",
            " [ 9 10 11 12]] \n",
            "\n",
            "[[ 1  2  3]\n",
            " [ 4  5  6]\n",
            " [ 7  8  9]\n",
            " [10 11 12]]\n"
          ]
        }
      ]
    },
    {
      "cell_type": "markdown",
      "source": [
        "multiplying 1x3 with 3x4"
      ],
      "metadata": {
        "id": "paQyEwI2ozzq"
      }
    },
    {
      "cell_type": "code",
      "source": [
        "oneXthree = np.array([[1],[2],[3]])\n",
        "#print(oneXthree)\n",
        "#print(threeXfour)\n",
        "\n",
        "print(threeXfour * oneXthree)"
      ],
      "metadata": {
        "colab": {
          "base_uri": "https://localhost:8080/"
        },
        "id": "aMyMv8syozT7",
        "outputId": "73aa431d-cd96-4970-dfbb-bcb2f880d620"
      },
      "execution_count": null,
      "outputs": [
        {
          "output_type": "stream",
          "name": "stdout",
          "text": [
            "[[1]\n",
            " [2]\n",
            " [3]]\n",
            "[[ 1  2  3  4]\n",
            " [ 5  6  7  8]\n",
            " [ 9 10 11 12]]\n",
            "[[ 1  2  3  4]\n",
            " [10 12 14 16]\n",
            " [27 30 33 36]]\n"
          ]
        }
      ]
    },
    {
      "cell_type": "markdown",
      "source": [
        "adding 1x4 to 3x4"
      ],
      "metadata": {
        "id": "YhY9m4a0rYOE"
      }
    },
    {
      "cell_type": "code",
      "source": [
        "oneXfour = np.array([[1,2,3,4]])\n",
        "\n",
        "print(threeXfour + oneXfour)"
      ],
      "metadata": {
        "colab": {
          "base_uri": "https://localhost:8080/"
        },
        "id": "0XsGIq-Argx6",
        "outputId": "f25729e1-0ea8-4880-8483-f1c715bff3a0"
      },
      "execution_count": null,
      "outputs": [
        {
          "output_type": "stream",
          "name": "stdout",
          "text": [
            "[[ 2  4  6  8]\n",
            " [ 6  8 10 12]\n",
            " [10 12 14 16]]\n"
          ]
        }
      ]
    },
    {
      "cell_type": "markdown",
      "source": [
        "**3. Indexing and slicing**"
      ],
      "metadata": {
        "id": "U_sl3WLpx1Cy"
      }
    },
    {
      "cell_type": "code",
      "source": [
        "# arr5x5 = np.array([[1,2,3,4,5],[6,7,8,9,10],[11,12,13,14,15],[16,17,18,19,20],[21,22,23,24,25]]) # wrong way\n",
        "arr5x5 = np.arange(1,26).reshape(5,5) # better way\n",
        "print(arr5x5)\n",
        "print(\"\")\n",
        "\n",
        "sub3x3arr = arr5x5[1:4,1:4]\n",
        "print(sub3x3arr)\n",
        "print(\"\")\n",
        "\n",
        "secondRow = arr5x5[1:2]\n",
        "print(secondRow)\n",
        "print(\"\")\n",
        "\n",
        "everyOddIndexColumn = arr5x5[0:6,0:6:2]\n",
        "print(everyOddIndexColumn)\n"
      ],
      "metadata": {
        "colab": {
          "base_uri": "https://localhost:8080/"
        },
        "id": "oVB1vnCxx7cf",
        "outputId": "7c57513a-2f27-47bf-c2c3-b50f262589a3"
      },
      "execution_count": null,
      "outputs": [
        {
          "output_type": "stream",
          "name": "stdout",
          "text": [
            "[[ 1  2  3  4  5]\n",
            " [ 6  7  8  9 10]\n",
            " [11 12 13 14 15]\n",
            " [16 17 18 19 20]\n",
            " [21 22 23 24 25]]\n",
            "\n",
            "[[ 7  8  9]\n",
            " [12 13 14]\n",
            " [17 18 19]]\n",
            "\n",
            "[[ 6  7  8  9 10]]\n",
            "\n",
            "[[ 1  3  5]\n",
            " [ 6  8 10]\n",
            " [11 13 15]\n",
            " [16 18 20]\n",
            " [21 23 25]]\n"
          ]
        }
      ]
    },
    {
      "cell_type": "markdown",
      "source": [
        "extracting element greater than mean"
      ],
      "metadata": {
        "id": "JY3-50EA3pPK"
      }
    },
    {
      "cell_type": "code",
      "source": [
        "greaterThanMean = arr5x5[arr5x5 > np.mean(arr5x5)]\n",
        "print(np.mean(arr5x5))\n",
        "print(greaterThanMean)"
      ],
      "metadata": {
        "colab": {
          "base_uri": "https://localhost:8080/"
        },
        "id": "233d1Sjg33wJ",
        "outputId": "c930afe6-0cd3-4b66-ced4-3161f15ddca4"
      },
      "execution_count": null,
      "outputs": [
        {
          "output_type": "stream",
          "name": "stdout",
          "text": [
            "13.0\n",
            "[14 15 16 17 18 19 20 21 22 23 24 25]\n"
          ]
        }
      ]
    },
    {
      "cell_type": "markdown",
      "source": [
        "4.linear Algebra opration"
      ],
      "metadata": {
        "id": "Od8xHyYL4hCy"
      }
    },
    {
      "cell_type": "code",
      "source": [
        "A = np.arange(1,7).reshape(2,3)\n",
        "B = np.arange(7,13).reshape(3,2)\n",
        "print(A)\n",
        "print(B)\n",
        "print(\"\")\n",
        "\n",
        "result_at = A @ B\n",
        "print(result_at)\n",
        "print(\"\")\n",
        "\n",
        "\n",
        "result_matmul = np.matmul(A,B)\n",
        "print(result_at)\n",
        "print(\"\")\n",
        "\n",
        "result_dot=np.dot(A,B)\n",
        "print(result_dot)\n",
        "print(\"\")\n",
        "\n",
        "\n",
        "#***note***\n",
        "# \"matmul\" and \"dot\" have different behavour\n",
        "# \"dot\"=> inner product (scalar)\n",
        "# \"matmul\"=> matrix mutiplication"
      ],
      "metadata": {
        "colab": {
          "base_uri": "https://localhost:8080/"
        },
        "id": "AlCoDKTP4nz0",
        "outputId": "6f3dade3-a32a-4ddc-d886-30df1c4f4024"
      },
      "execution_count": null,
      "outputs": [
        {
          "output_type": "stream",
          "name": "stdout",
          "text": [
            "[[1 2 3]\n",
            " [4 5 6]]\n",
            "[[ 7  8]\n",
            " [ 9 10]\n",
            " [11 12]]\n",
            "\n",
            "[[ 58  64]\n",
            " [139 154]]\n",
            "\n",
            "[[ 58  64]\n",
            " [139 154]]\n",
            "\n",
            "[[ 58  64]\n",
            " [139 154]]\n",
            "\n"
          ]
        }
      ]
    },
    {
      "cell_type": "markdown",
      "source": [
        "i dont know what is eigenvalue and eigenvector and i didnt understand by searching !!! :("
      ],
      "metadata": {
        "id": "uBuJyzWC-3Ow"
      }
    },
    {
      "cell_type": "markdown",
      "source": [
        "**the last one :**\n",
        "determinant"
      ],
      "metadata": {
        "id": "pTZ2yPmP_ANH"
      }
    },
    {
      "cell_type": "code",
      "source": [
        "c = np.matmul(A,B)\n",
        "print(A)\n",
        "print(\"\")\n",
        "print(B)\n",
        "print(\"\")\n",
        "print(c)\n",
        "print(\"\")\n",
        "\n",
        "determinant = np.linalg.det(c)\n",
        "print(determinant)"
      ],
      "metadata": {
        "colab": {
          "base_uri": "https://localhost:8080/"
        },
        "id": "yAxrMCCm_M5C",
        "outputId": "f9d86ca1-155b-4ae8-d8b3-a7ac1a71384c"
      },
      "execution_count": null,
      "outputs": [
        {
          "output_type": "stream",
          "name": "stdout",
          "text": [
            "[[1 2 3]\n",
            " [4 5 6]]\n",
            "\n",
            "[[ 7  8]\n",
            " [ 9 10]\n",
            " [11 12]]\n",
            "\n",
            "[[ 58  64]\n",
            " [139 154]]\n",
            "\n",
            "36.000000000000256\n"
          ]
        }
      ]
    }
  ]
}